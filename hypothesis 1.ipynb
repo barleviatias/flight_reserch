{
  "cells": [
    {
      "cell_type": "code",
      "execution_count": null,
      "metadata": {
        "id": "Wlepa58RqPZK"
      },
      "outputs": [],
      "source": [
        "import pandas as pd\n",
        "import networkx as nx\n",
        "import matplotlib.pyplot as plt\n",
        "import seaborn as sns\n",
        "\n",
        "# קריאת הקובץ עם טיפול בערכים מעורבים\n",
        "file_path = 'flights_cleaned.csv'  # ודא שהשם של הקובץ נכון\n",
        "data = pd.read_csv(file_path, dtype={'ORIGIN_AIRPORT': str, 'DESTINATION_AIRPORT': str}, low_memory=False)\n",
        "\n",
        "# יצירת גרף מכוון מהנתונים\n",
        "def create_directed_graph(data):\n",
        "    G = nx.DiGraph()\n",
        "    for index, row in data.iterrows():\n",
        "        G.add_edge(row['ORIGIN_AIRPORT'], row['DESTINATION_AIRPORT'])\n",
        "    return G\n",
        "\n",
        "graph = create_directed_graph(data)\n",
        "\n",
        "# חישוב Betweenness Centrality\n",
        "betweenness = nx.betweenness_centrality(graph)\n",
        "\n",
        "# יצירת DataFrame עבור מדדי המרכזיות\n",
        "centrality_df = pd.DataFrame(list(betweenness.items()), columns=['Airport', 'Betweenness_Centrality'])\n",
        "\n",
        "# חישוב עיכובים ממוצעים לכל נמל תעופה\n",
        "delay_data = data.groupby('ORIGIN_AIRPORT')['DEPARTURE_DELAY'].mean().reset_index()\n",
        "delay_data.columns = ['Airport', 'Average_Departure_Delay']\n",
        "\n",
        "# מיזוג הנתונים\n",
        "merged_data = pd.merge(centrality_df, delay_data, on='Airport')\n",
        "\n",
        "# הדפסת התוצאות\n",
        "print(merged_data)\n",
        "\n",
        "# יצירת גרף להשוואת מדדי המרכזיות לעיכובים הממוצעים\n",
        "plt.figure(figsize=(10, 6))\n",
        "sns.scatterplot(x='Betweenness_Centrality', y='Average_Departure_Delay', data=merged_data)\n",
        "plt.xlabel('Betweenness Centrality')\n",
        "plt.ylabel('Average Departure Delay')\n",
        "plt.title('Betweenness Centrality vs. Average Departure Delay')\n",
        "plt.show()\n",
        "\n",
        "# חישוב הקורלציה\n",
        "correlation = merged_data['Betweenness_Centrality'].corr(merged_data['Average_Departure_Delay'])\n",
        "print(f'Correlation between Betweenness Centrality and Average Departure Delay: {correlation}')"
      ]
    }
  ],
  "metadata": {
    "colab": {
      "provenance": []
    },
    "kernelspec": {
      "display_name": "Python 3",
      "name": "python3"
    },
    "language_info": {
      "name": "python"
    }
  },
  "nbformat": 4,
  "nbformat_minor": 0
}

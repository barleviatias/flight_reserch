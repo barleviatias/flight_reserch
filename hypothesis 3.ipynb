{
  "cells": [
    {
      "cell_type": "code",
      "execution_count": null,
      "metadata": {},
      "outputs": [],
      "source": [
        "import pandas as pd\n",
        "import networkx as nx\n",
        "import matplotlib.pyplot as plt\n",
        "import seaborn as sns\n",
        "\n",
        "# קריאת הקובץ עם טיפול בערכים מעורבים\n",
        "file_path = 'flights_cleaned.csv'  # ודא שהשם של הקובץ נכון\n",
        "data = pd.read_csv(file_path, dtype={'ORIGIN_AIRPORT': str, 'DESTINATION_AIRPORT': str}, low_memory=False)\n",
        "\n",
        "# יצירת גרף מכוון מהנתונים\n",
        "def create_directed_graph(data):\n",
        "    G = nx.DiGraph()\n",
        "    for index, row in data.iterrows():\n",
        "        G.add_edge(row['ORIGIN_AIRPORT'], row['DESTINATION_AIRPORT'])\n",
        "    return G\n",
        "\n",
        "graph = create_directed_graph(data)\n",
        "\n",
        "# חישוב Closeness Centrality\n",
        "closeness = nx.closeness_centrality(graph)\n",
        "\n",
        "# יצירת DataFrame עבור מדדי המרכזיות\n",
        "centrality_df = pd.DataFrame(list(closeness.items()), columns=['Airport', 'Closeness_Centrality'])\n",
        "\n",
        "# חישוב מספר הטיסות לכל נמל תעופה\n",
        "origin_counts = data['ORIGIN_AIRPORT'].value_counts()\n",
        "destination_counts = data['DESTINATION_AIRPORT'].value_counts()\n",
        "total_counts = origin_counts.add(destination_counts, fill_value=0).reset_index()\n",
        "total_counts.columns = ['Airport', 'Total_Flights']\n",
        "\n",
        "# מיזוג הנתונים\n",
        "merged_data = pd.merge(centrality_df, total_counts, on='Airport')\n",
        "\n",
        "# גרף פיזור (scatter plot) של Closeness Centrality לפי מספר הטיסות\n",
        "plt.figure(figsize=(12, 6))\n",
        "sns.scatterplot(x='Closeness_Centrality', y='Total_Flights', data=merged_data)\n",
        "plt.title('Closeness Centrality vs Total Flights')\n",
        "plt.xlabel('Closeness Centrality')\n",
        "plt.ylabel('Total Flights')\n",
        "plt.show()\n",
        "\n",
        "# חישוב הקורלציה\n",
        "correlation = merged_data['Closeness_Centrality'].corr(merged_data['Total_Flights'])\n",
        "print(f'Correlation between Closeness Centrality and Total Flights: {correlation}')"
      ]
    }
  ],
  "metadata": {
    "colab": {
      "provenance": []
    },
    "kernelspec": {
      "display_name": "Python 3",
      "name": "python3"
    },
    "language_info": {
      "name": "python"
    }
  },
  "nbformat": 4,
  "nbformat_minor": 0
}

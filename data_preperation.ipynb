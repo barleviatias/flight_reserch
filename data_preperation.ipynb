{
  "cells": [
    {
      "cell_type": "code",
      "execution_count": null,
      "metadata": {
        "id": "lD8QV0w6prNs"
      },
      "outputs": [
        {
          "ename": "",
          "evalue": "",
          "output_type": "error",
          "traceback": [
            "\u001b[1;31mRunning cells with 'Python 3.12.4' requires the ipykernel package.\n",
            "\u001b[1;31mRun the following command to install 'ipykernel' into the Python environment. \n",
            "\u001b[1;31mCommand: '/opt/homebrew/bin/python3 -m pip install ipykernel -U --user --force-reinstall'"
          ]
        }
      ],
      "source": [
        "import pandas as pd\n",
        "import gdown\n",
        "import os\n",
        "\n",
        "# File ID from Google Drive\n",
        "file_id = '1BX8Uce2Kj9sFNvyQaoKjoHClW-fK0VOn'\n",
        "\n",
        "# Construct the Google Drive download URL\n",
        "url = f'https://drive.google.com/uc?id={file_id}'\n",
        "\n",
        "# Local path to save the file\n",
        "destination = 'flights.csv'\n",
        "\n",
        "# Download the file\n",
        "print(\"Downloading file from Google Drive...\")\n",
        "gdown.download(url, destination, quiet=False)\n",
        "print(\"Download complete.\")\n",
        "\n",
        "# Check if file exists and has content\n",
        "if os.path.exists(destination) and os.path.getsize(destination) > 0:\n",
        "    # Read the CSV file\n",
        "    try:\n",
        "        data = pd.read_csv(destination, dtype={'ORIGIN_AIRPORT': str, 'DESTINATION_AIRPORT': str}, low_memory=False)\n",
        "        print(data.head())  # Display the first few rows to verify\n",
        "    except Exception as e:\n",
        "        print(f\"Error reading the file: {str(e)}\")\n",
        "else:\n",
        "    print(\"File download failed or file is empty.\")\n",
        "    exit()\n",
        "\n",
        "# Check missing values in all columns\n",
        "missing_values = data.isnull().sum()\n",
        "print(\"Missing values in each column:\")\n",
        "print(missing_values)\n",
        "\n",
        "# Print the number of rows and columns\n",
        "num_rows, num_columns = data.shape\n",
        "print(f\"\\nNumber of rows: {num_rows}\")\n",
        "print(f\"Number of columns: {num_columns}\")\n",
        "\n",
        "# Keep only relevant columns\n",
        "columns_to_keep = [\n",
        "    'YEAR', 'MONTH', 'DAY', 'DAY_OF_WEEK', 'AIRLINE', 'FLIGHT_NUMBER',\n",
        "    'TAIL_NUMBER', 'ORIGIN_AIRPORT', 'DESTINATION_AIRPORT',\n",
        "    'DEPARTURE_TIME', 'DEPARTURE_DELAY'\n",
        "]\n",
        "data = data[columns_to_keep]\n",
        "\n",
        "# Remove rows with NaNs in required columns\n",
        "data_cleaned = data.dropna(subset=columns_to_keep)\n",
        "\n",
        "# Save the new file\n",
        "cleaned_file_path = 'flights_cleaned.csv'\n",
        "data_cleaned.to_csv(cleaned_file_path, index=False)\n",
        "\n",
        "print(f\"Data cleaned and saved to {cleaned_file_path}\")\n",
        "\n",
        "# Read the cleaned file\n",
        "data = pd.read_csv(cleaned_file_path, dtype={'ORIGIN_AIRPORT': str, 'DESTINATION_AIRPORT': str}, low_memory=False)\n",
        "\n",
        "# Check missing values in all columns again\n",
        "missing_values = data.isnull().sum()\n",
        "print(\"Missing values in each column:\")\n",
        "print(missing_values)\n",
        "\n",
        "# Print the number of rows and columns\n",
        "num_rows, num_columns = data.shape\n",
        "print(f\"\\nNumber of rows: {num_rows}\")\n",
        "print(f\"Number of columns: {num_columns}\")"
      ]
    },
    {
      "cell_type": "code",
      "execution_count": null,
      "metadata": {},
      "outputs": [],
      "source": []
    }
  ],
  "metadata": {
    "colab": {
      "provenance": []
    },
    "kernelspec": {
      "display_name": "Python 3",
      "name": "python3"
    },
    "language_info": {
      "name": "python",
      "version": "3.12.4"
    }
  },
  "nbformat": 4,
  "nbformat_minor": 0
}
